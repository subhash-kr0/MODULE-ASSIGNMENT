{
 "cells": [
  {
   "cell_type": "markdown",
   "metadata": {},
   "source": [
    "Question 1.4.Find the output of the following. <br>\n",
    "animal = ['Human‘'cat,/mat’cat, rat’, Human’, ‘Lion]\n",
    "print(animal.count(‘Human’)) <br>\n",
    "print(animal.index(‘rat’)) <br>\n",
    "print(len(animal)) \n"
   ]
  },
  {
   "cell_type": "code",
   "execution_count": 1,
   "metadata": {},
   "outputs": [
    {
     "name": "stdout",
     "output_type": "stream",
     "text": [
      "2\n",
      "4\n",
      "7\n"
     ]
    }
   ],
   "source": [
    "animal = ['Human','cat','mat','cat','rat', 'Human', 'Lion']\n",
    "print(animal.count('Human')) \n",
    "print(animal.index('rat')) \n",
    "print(len(animal)) \n"
   ]
  }
 ],
 "metadata": {
  "kernelspec": {
   "display_name": "Python 3",
   "language": "python",
   "name": "python3"
  },
  "language_info": {
   "codemirror_mode": {
    "name": "ipython",
    "version": 3
   },
   "file_extension": ".py",
   "mimetype": "text/x-python",
   "name": "python",
   "nbconvert_exporter": "python",
   "pygments_lexer": "ipython3",
   "version": "3.12.3"
  }
 },
 "nbformat": 4,
 "nbformat_minor": 2
}
