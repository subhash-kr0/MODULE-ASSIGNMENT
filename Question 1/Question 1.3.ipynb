{
 "cells": [
  {
   "cell_type": "markdown",
   "metadata": {},
   "source": [
    "Question 1.3. <br>\n",
    "name = [“Mohan’, ‘dash’, “karam’, “chandra’gandhi’,\"Bapu’] \n",
    "do the following operations in this list; "
   ]
  },
  {
   "cell_type": "markdown",
   "metadata": {},
   "source": [
    "a) add an element ‘freedom _fighter’in this list at the Oth index"
   ]
  },
  {
   "cell_type": "code",
   "execution_count": 3,
   "metadata": {},
   "outputs": [
    {
     "name": "stdout",
     "output_type": "stream",
     "text": [
      "['freedom_fighter', 'Mohan', 'dash', 'karam', 'chandra', 'gandhi', 'Bapu']\n"
     ]
    }
   ],
   "source": [
    "name = [\"Mohan\", \"dash\", \"karam\", \"chandra\", \"gandhi\", \"Bapu\"]\n",
    "\n",
    "name.insert(0, 'freedom_fighter')\n",
    "print(name)\n"
   ]
  },
  {
   "cell_type": "markdown",
   "metadata": {},
   "source": [
    "b) find the output of the following ,and explain how? <br>\n",
    "<code>\n",
    "name = [“freedomFighter”,\"Bapuji\",\"MOhan\" \"dash\",\"karam\", \"chandra\", \"gandhi\"]<br>\n",
    "length1=len((name[-len(name)+1:-1:2]))<br>\n",
    "length2=len((name[-lLen(name)+1:-1]))<br>\n",
    "print(length1+lenght2)\n",
    "</code>"
   ]
  },
  {
   "cell_type": "code",
   "execution_count": null,
   "metadata": {},
   "outputs": [],
   "source": [
    "name = [\"freedomFighter\", \"Bapuji\", \"MOhan\", \"dash\", \"karam\", \"chandra\", \"gandhi\"]\n",
    "Length2 = len(name[-len(name)+1:-1])\n",
    "len(name) is 7.\n",
    "# -len(name)+1 is -7+1 which is -6.\n",
    "# name[-6:-1] gives the sublist from the second element (index 1) to the second-last element (index -2), inclusive of start but exclusive of end.\n",
    "# Sublist: [\"Bapuji\", \"MOhan\", \"dash\", \"karam\", \"chandra\"]\n",
    "# Length of this sublist is 5.\n",
    "\n",
    "\n",
    "Length1 = len(name[-len(name)+1:-1:2])\n",
    "# This takes every second element from the sublist starting at -6 to -1.\n",
    "# Sublist: [\"Bapuji\", \"dash\", \"chandra\"]\n",
    "# Length of this sublist is 3."
   ]
  },
  {
   "cell_type": "markdown",
   "metadata": {},
   "source": [
    "c) add two more elements in the name [\"NetaJi\",\"Bose\"] at the end of the list"
   ]
  },
  {
   "cell_type": "code",
   "execution_count": 5,
   "metadata": {},
   "outputs": [
    {
     "name": "stdout",
     "output_type": "stream",
     "text": [
      "['freedom_fighter', 'Mohan', 'dash', 'karam', 'chandra', 'gandhi', 'Bapu', 'NetaJi', 'Bose', 'NetaJi', 'Bose']\n"
     ]
    }
   ],
   "source": [
    "name.extend([\"NetaJi\", \"Bose\"])\n",
    "print(name)"
   ]
  },
  {
   "cell_type": "markdown",
   "metadata": {},
   "source": [
    "d) what will be the value of temp: <br>\n",
    "name = [\"Bapuji”, \"dash\", “karam\",\"chandra\",\"gandi\",\"Mohan\"]<br>\n",
    "temp=name[-1] <br>\n",
    "name[-1]=name[0] <br>\n",
    "name[0]=temp <br>\n",
    "print(name) "
   ]
  },
  {
   "cell_type": "code",
   "execution_count": 7,
   "metadata": {},
   "outputs": [
    {
     "name": "stdout",
     "output_type": "stream",
     "text": [
      "Mohan\n"
     ]
    }
   ],
   "source": [
    "\n",
    "name = [\"Bapuji\", \"dash\", \"karam\", \"chandra\", \"gandhi\", \"Mohan\"]\n",
    "temp = name[-1]\n",
    "name[-1] = name[0]\n",
    "name[0] = temp\n",
    "\n",
    "print(temp)"
   ]
  }
 ],
 "metadata": {
  "kernelspec": {
   "display_name": "Python 3",
   "language": "python",
   "name": "python3"
  },
  "language_info": {
   "codemirror_mode": {
    "name": "ipython",
    "version": 3
   },
   "file_extension": ".py",
   "mimetype": "text/x-python",
   "name": "python",
   "nbconvert_exporter": "python",
   "pygments_lexer": "ipython3",
   "version": "3.12.3"
  }
 },
 "nbformat": 4,
 "nbformat_minor": 2
}
