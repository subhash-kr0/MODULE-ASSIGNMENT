{
 "cells": [
  {
   "cell_type": "markdown",
   "metadata": {},
   "source": [
    "Question 1.1: Write the Answer to these questions. \n",
    "Note: Give at least one example for each of the questions. \n"
   ]
  },
  {
   "cell_type": "markdown",
   "metadata": {},
   "source": [
    "1. What is the difference between static and dynamic variables in Python? \n",
    "\n",
    "Ans:<br>\n",
    "Static Variables: Variables that belong to the class and are shared among all instances of the class. They are defined inside the class but outside any methods.\n",
    "\n",
    "Dynamic Variables: Variables that are instance-specific and defined inside methods. Each instance has its own copy.\n"
   ]
  },
  {
   "cell_type": "code",
   "execution_count": null,
   "metadata": {},
   "outputs": [],
   "source": [
    "# Example\n",
    "class Example:\n",
    "    static_var = 42  # Static variable\n",
    "    \n",
    "    def __init__(self, dynamic_var):\n",
    "        self.dynamic_var = dynamic_var  # Dynamic variable\n",
    "\n",
    "# Creating instances\n",
    "instance1 = Example(1)\n",
    "instance2 = Example(2)\n",
    "\n",
    "print(instance1.static_var)  # Output: 42\n",
    "print(instance2.static_var)  # Output: 42\n",
    "print(instance1.dynamic_var)  # Output: 1\n",
    "print(instance2.dynamic_var)  # Output: 2\n",
    "\n",
    "# Changing static variable affects all instances\n",
    "Example.static_var = 99\n",
    "print(instance1.static_var)  # Output: 99\n",
    "print(instance2.static_var)  # Output: 99\n"
   ]
  },
  {
   "cell_type": "markdown",
   "metadata": {},
   "source": [
    "2. Explain the purpose of \"pop’,popitem’,clear()\" in a dictionary with suitable examples. \n",
    "\n",
    "Ans:-\n",
    "\n",
    "pop(key): Removes the specified key and returns the corresponding value. Raises a KeyError if the key is not found.\n",
    "\n",
    "popitem(): Removes and returns the last (key, value) pair as a tuple. Raises a KeyError if the dictionary is empty.\n",
    "\n",
    "clear(): Removes all items from the dictionary."
   ]
  },
  {
   "cell_type": "code",
   "execution_count": null,
   "metadata": {},
   "outputs": [],
   "source": [
    "# Example\n",
    "d = {'a': 1, 'b': 2, 'c': 3}\n",
    "print(d.pop('b'))  # Output: 2\n",
    "print(d)  # Output: {'a': 1, 'c': 3}\n",
    "\n",
    "\n",
    "d = {'a': 1, 'b': 2, 'c': 3}\n",
    "print(d.popitem())  # Output: ('c', 3)\n",
    "print(d)  # Output: {'a': 1, 'b': 2}\n",
    "\n",
    "\n",
    "d = {'a': 1, 'b': 2, 'c': 3}\n",
    "d.clear()\n",
    "print(d)  # Output: {}\n"
   ]
  },
  {
   "cell_type": "markdown",
   "metadata": {},
   "source": [
    "3. What do you mean by FrozenSet? Explain it with suitable examples. \n",
    "\n",
    "Ans:-\n",
    "\n",
    "A frozenset is an immutable version of a set. It cannot be modified after creation, making it hashable and usable as a key in a dictionary or an element of another set.\n"
   ]
  },
  {
   "cell_type": "code",
   "execution_count": null,
   "metadata": {},
   "outputs": [],
   "source": [
    "# Example\n",
    "fs = frozenset([1, 2, 3, 4])\n",
    "print(fs)  # Output: frozenset({1, 2, 3, 4})\n",
    "# fs.add(5) would raise an AttributeError\n"
   ]
  },
  {
   "cell_type": "markdown",
   "metadata": {},
   "source": [
    "4. Differentiate between mutable and immutable data types in Python and give examples of mutable and \n",
    "immutable data types. \n",
    "\n",
    "Ans:-\n",
    "\n",
    "Mutable Data Types: Can be changed after creation.\n",
    "\n",
    "Examples: List, Dictionary, Set\n",
    "Immutable Data Types: Cannot be changed after creation.\n",
    "\n",
    "Examples: Tuple, String, FrozenSet"
   ]
  },
  {
   "cell_type": "code",
   "execution_count": null,
   "metadata": {},
   "outputs": [],
   "source": [
    "# Example\n",
    "\n",
    "# Mutable\n",
    "lst = [1, 2, 3]\n",
    "lst.append(4)  # Modifies the list\n",
    "print(lst)  # Output: [1, 2, 3, 4]\n",
    "\n",
    "# Immutable\n",
    "tpl = (1, 2, 3)\n",
    "# tpl.append(4) would raise an AttributeError\n",
    "print(tpl)  # Output: (1, 2, 3)\n"
   ]
  },
  {
   "cell_type": "markdown",
   "metadata": {},
   "source": [
    "5. What is __init__?Explain with an example. \n",
    "\n",
    "Ans:-\n",
    "\n",
    "__init__ is a special method called a constructor, used to initialize the object's state when a new instance is created."
   ]
  },
  {
   "cell_type": "code",
   "execution_count": null,
   "metadata": {},
   "outputs": [],
   "source": [
    "# Example\n",
    "\n",
    "class Person:\n",
    "    def __init__(self, name, age):\n",
    "        self.name = name\n",
    "        self.age = age\n",
    "\n",
    "p1 = Person('Alice', 30)\n",
    "print(p1.name)  # Output: Alice\n",
    "print(p1.age)  # Output: 30\n"
   ]
  },
  {
   "cell_type": "markdown",
   "metadata": {},
   "source": [
    "6. What is docstring in Python?Explain with an example. \n",
    "\n",
    "Ans:-\n",
    "\n",
    "A docstring is a string literal that occurs as the first statement in a module, function, class, or method definition. Used to document the purpose of the code.\n"
   ]
  },
  {
   "cell_type": "code",
   "execution_count": null,
   "metadata": {},
   "outputs": [],
   "source": [
    "# Example\n",
    "def add(a, b):\n",
    "    \"\"\"\n",
    "    This function adds two numbers.\n",
    "    :param a: First number\n",
    "    :param b: Second number\n",
    "    :return: Sum of a and b\n",
    "    \"\"\"\n",
    "    return a + b\n",
    "\n",
    "print(add.__doc__)\n"
   ]
  },
  {
   "cell_type": "markdown",
   "metadata": {},
   "source": [
    "7. What are unit tests in Python? \n",
    "\n",
    "Ans:-\n",
    "\n",
    "Unit tests are a type of software testing where individual units or components of the software are tested. The purpose is to validate that each unit of the software performs as expected."
   ]
  },
  {
   "cell_type": "code",
   "execution_count": null,
   "metadata": {},
   "outputs": [],
   "source": [
    "# Example\n",
    "import unittest\n",
    "\n",
    "def add(a, b):\n",
    "    return a + b\n",
    "\n",
    "class TestAddFunction(unittest.TestCase):\n",
    "    def test_add(self):\n",
    "        self.assertEqual(add(1, 2), 3)\n",
    "        self.assertEqual(add(-1, 1), 0)\n",
    "\n",
    "if __name__ == '__main__':\n",
    "    unittest.main()\n"
   ]
  },
  {
   "cell_type": "markdown",
   "metadata": {},
   "source": [
    "8. What is break, continue and pass in Python? \n",
    "\n",
    "Ans:-\n",
    "\n",
    "break: Terminates the loop entirely.\n",
    "\n",
    "continue: Skips the rest of the code inside the loop for the current iteration and moves to the next iteration.\n",
    "\n",
    "pass: Does nothing and is used as a placeholder."
   ]
  },
  {
   "cell_type": "code",
   "execution_count": null,
   "metadata": {},
   "outputs": [],
   "source": [
    "# Example\n",
    "for i in range(5):\n",
    "    if i == 3:\n",
    "        break\n",
    "    print(i)  # Output: 0, 1, 2\n",
    "\n",
    "\n",
    "for i in range(5):\n",
    "    if i == 3:\n",
    "        continue\n",
    "    print(i)  # Output: 0, 1, 2, 4\n",
    "\n",
    "\n",
    "for i in range(5):\n",
    "    if i == 3:\n",
    "        pass\n",
    "    print(i)  # Output: 0, 1, 2, 3, 4\n"
   ]
  },
  {
   "cell_type": "markdown",
   "metadata": {},
   "source": [
    "9. What is the use of self in Python? \n",
    "\n",
    "Ans:-\n",
    "\n",
    "self represents the instance of the class. It's used to access variables and methods associated with the current object."
   ]
  },
  {
   "cell_type": "markdown",
   "metadata": {},
   "source": [
    "10. What are global, protected and private attributes in Python? \n",
    "\n",
    "Ans:-\n",
    "\n",
    "Global Attributes: Accessible from anywhere in the module.\n",
    "\n",
    "Protected Attributes: Indicated by a single underscore (_), meant to be accessible only within subclasses.\n",
    "\n",
    "Private Attributes: Indicated by a double underscore (__), meant to be inaccessible from outside the class.\n"
   ]
  },
  {
   "cell_type": "code",
   "execution_count": null,
   "metadata": {},
   "outputs": [],
   "source": [
    "# Example\n",
    "class MyClass:\n",
    "    public_var = 1\n",
    "    _protected_var = 2\n",
    "    __private_var = 3\n",
    "\n",
    "    def display(self):\n",
    "        print(self.public_var)\n",
    "        print(self._protected_var)\n",
    "        print(self.__private_var)\n",
    "\n",
    "obj = MyClass()\n",
    "print(obj.public_var)  # Output: 1\n",
    "print(obj._protected_var)  # Output: 2\n",
    "# print(obj.__private_var)  # Would raise an AttributeError\n",
    "obj.display()\n"
   ]
  },
  {
   "cell_type": "markdown",
   "metadata": {},
   "source": [
    "11. What are modules and packages in Python? \n",
    "\n",
    "Ans:-\n",
    "\n",
    "Modules: A single Python file that can be imported.\n",
    "\n",
    "Example:  math module.\n",
    "\n",
    "import math<br>\n",
    "print(math.sqrt(16))  # Output: 4.0\n",
    "\n",
    "Packages: A collection of modules in a directory. The directory must contain a special file called __init__.py.\n",
    "\n",
    "Example: numpy package."
   ]
  },
  {
   "cell_type": "markdown",
   "metadata": {},
   "source": [
    "12. What are lists and tuples? What is the key difference between the two? \n",
    "\n",
    "Ans:-\n",
    "\n",
    "Lists: Mutable, ordered collections of items.\n",
    "\n",
    "Tuples: Immutable, ordered collections of items.\n",
    "\n",
    "Key Difference: Lists can be modified, whereas tuples cannot."
   ]
  },
  {
   "cell_type": "code",
   "execution_count": null,
   "metadata": {},
   "outputs": [],
   "source": [
    "# Example\n",
    "# List\n",
    "lst = [1, 2, 3]\n",
    "lst.append(4)\n",
    "print(lst)  # Output: [1, 2, 3, 4]\n",
    "\n",
    "# Tuple\n",
    "tpl = (1, 2, 3)\n",
    "# tpl.append(4) would raise an AttributeError\n",
    "print(tpl)  # Output: (1, 2, 3)\n"
   ]
  },
  {
   "cell_type": "markdown",
   "metadata": {},
   "source": [
    "13. What is an Interpreted lanquage & dynamically typed language?Write 5 differences between them. \n",
    "\n",
    "Ans:-\n",
    "\n",
    "Interpreted Language: Code is executed line by line by an interpreter at runtime.\n",
    "\n",
    "Dynamically Typed Language: Variables can hold values of any type without declaring their type.\n",
    "\n",
    "Examples of Differences:\n",
    "\n",
    "Compilation: Interpreted languages are not compiled before execution.\n",
    "\n",
    "Type Checking: Dynamically typed languages perform type checking at runtime.\n",
    "\n",
    "Error Detection: Errors in interpreted languages are detected at runtime.\n",
    "\n",
    "Flexibility: Dynamically typed languages are more flexible in handling different data types.\n",
    "\n",
    "Performance: Interpreted languages can be slower due to runtime interpretation."
   ]
  },
  {
   "cell_type": "markdown",
   "metadata": {},
   "source": [
    "14. What are Dict and List comprehensions? \n",
    "\n",
    "Ans:-\n",
    "\n",
    "List Comprehension: A concise way to create lists.\n",
    "\n",
    "Dict Comprehension: A concise way to create dictionaries."
   ]
  },
  {
   "cell_type": "code",
   "execution_count": null,
   "metadata": {},
   "outputs": [],
   "source": [
    "# Example\n",
    "lst = [x**2 for x in range(5)]\n",
    "print(lst)  # Output: [0, 1, 4, 9, 16]\n",
    "\n",
    "d = {x: x**2 for x in range(5)}\n",
    "print(d)  # Output: {0: 0, 1: 1, 2: 4, 3: 9, 4: 16}\n"
   ]
  },
  {
   "cell_type": "markdown",
   "metadata": {},
   "source": [
    "15. What are decorators in Python? Explain it with an example.Write down its use cases. \n",
    "\n",
    "Ans:-\n",
    "\n",
    "Decorators are a way to modify the behavior of functions or classes. They are used to add functionality to existing code in a reusable way.\n",
    "\n",
    "Use Cases:\n",
    "\n",
    "Logging<br>\n",
    "Authentication<br>\n",
    "Caching<br>\n",
    "Validation"
   ]
  },
  {
   "cell_type": "code",
   "execution_count": null,
   "metadata": {},
   "outputs": [],
   "source": [
    "# Example\n",
    "def my_decorator(func):\n",
    "    def wrapper():\n",
    "        print(\"Something is happening before the function is called.\")\n",
    "        func()\n",
    "        print(\"Something is happening after the function is called.\")\n",
    "    return wrapper\n",
    "\n",
    "@my_decorator\n",
    "def say_hello():\n",
    "    print(\"Hello!\")\n",
    "\n",
    "say_hello()\n"
   ]
  },
  {
   "cell_type": "markdown",
   "metadata": {},
   "source": [
    "16. How is memory managed in Python? \n",
    "\n",
    "Ans:-\n",
    "\n",
    "Memory Management in Python\n",
    "\n",
    "Memory management in Python involves a private heap containing all Python objects and data structures. The management is handled by Python's built-in garbage collector, which reclaims memory by removing objects that are no longer referenced."
   ]
  },
  {
   "cell_type": "markdown",
   "metadata": {},
   "source": [
    "17. What is lambda in Python? Why is it used? \n",
    "\n",
    "Ans:-\n",
    "\n",
    "A lambda is an anonymous function defined with the lambda keyword. It's used for creating small, one-off functions without defining a separate def."
   ]
  },
  {
   "cell_type": "code",
   "execution_count": null,
   "metadata": {},
   "outputs": [],
   "source": [
    "add = lambda x, y: x + y\n",
    "print(add(2, 3))  # Output: 5\n"
   ]
  },
  {
   "cell_type": "markdown",
   "metadata": {},
   "source": [
    "18. Explain split() and join() functions in Python? \n",
    "\n",
    "Ans:-\n",
    "\n",
    "split(): Splits a string into a list based on a delimiter.\n",
    "\n",
    "join(): Joins elements of a list into a single string with a delimiter."
   ]
  },
  {
   "cell_type": "code",
   "execution_count": null,
   "metadata": {},
   "outputs": [],
   "source": [
    "# Example\n",
    "s = \"hello world\"\n",
    "print(s.split())  # Output: ['hello', 'world']\n",
    "\n",
    "lst = ['hello', 'world']\n",
    "print(' '.join(lst))  # Output: \"hello world\"\n"
   ]
  },
  {
   "cell_type": "markdown",
   "metadata": {},
   "source": [
    "19. What are iterators , iterable & generators in Python? \n",
    "\n",
    "Ans:-\n",
    "\n",
    "Iterable: An object that can return an iterator.\n",
    "\n",
    "Iterator: An object that represents a stream of data; it returns data, one element at a time.\n",
    "\n",
    "Generator: A function that produces a sequence of results instead of a single value.\n"
   ]
  },
  {
   "cell_type": "code",
   "execution_count": null,
   "metadata": {},
   "outputs": [],
   "source": [
    "# Exapmle\n",
    "# Iterable\n",
    "lst = [1, 2, 3]\n",
    "for i in lst:\n",
    "    print(i)  # Output: 1, 2, 3\n",
    "\n",
    "# Iterator\n",
    "it = iter(lst)\n",
    "print(next(it))  # Output: 1\n",
    "print(next(it))  # Output: 2\n",
    "\n",
    "# Generator\n",
    "def gen():\n",
    "    yield 1\n",
    "    yield 2\n",
    "    yield 3\n",
    "\n",
    "g = gen()\n",
    "print(next(g))  # Output: 1\n",
    "print(next(g))  # Output: 2\n"
   ]
  },
  {
   "cell_type": "markdown",
   "metadata": {},
   "source": [
    "20. What is the difference between xrange and range in Python? \n",
    "\n",
    "Ans:- \n",
    "\n",
    "range: Returns a list of numbers in Python 2 and a range object in Python 3.\n",
    "\n",
    "xrange: Returns an xrange object in Python 2, which generates numbers on demand (does not exist in Python 3).\n"
   ]
  },
  {
   "cell_type": "code",
   "execution_count": null,
   "metadata": {},
   "outputs": [],
   "source": [
    "# Example\n",
    "# range\n",
    "print(range(5))  # Output: [0, 1, 2, 3, 4]\n",
    "\n",
    "# xrange\n",
    "print(xrange(5))  # Output: xrange(0, 5)\n"
   ]
  },
  {
   "cell_type": "markdown",
   "metadata": {},
   "source": [
    "21. Pillars of Oops. \n",
    "\n",
    "Ans:-\n",
    "\n",
    "Encapsulation: Bundling of data and methods that operate on the data within one unit (class).\n",
    "\n",
    "Inheritance: Mechanism by which one class inherits properties and behaviors of another class.\n",
    "\n",
    "Polymorphism: Ability to present the same interface for different data types.\n",
    "\n",
    "Abstraction: Hiding the complex implementation details and showing only the necessary features."
   ]
  },
  {
   "cell_type": "markdown",
   "metadata": {},
   "source": [
    "22. How will you check if a class is a child of another class? \n",
    "\n",
    "Ans:-\n",
    "\n",
    "Use the issubclass() function.\n"
   ]
  },
  {
   "cell_type": "code",
   "execution_count": null,
   "metadata": {},
   "outputs": [],
   "source": [
    "# Example\n",
    "class Parent:\n",
    "    pass\n",
    "\n",
    "class Child(Parent):\n",
    "    pass\n",
    "\n",
    "print(issubclass(Child, Parent))  # Output: True\n"
   ]
  },
  {
   "cell_type": "markdown",
   "metadata": {},
   "source": [
    "23. How does inheritance work in python? Explain all types of inheritance with an example. \n",
    "\n",
    "Ans: - \n",
    "\n",
    "Inheritance in Python<br>\n",
    "Single Inheritance: A class inherits from one base class.<br>\n",
    "Multiple Inheritance: A class inherits from more than one base class.<br>\n",
    "Multilevel Inheritance: A class inherits from a derived class, forming a chain.<br>\n",
    "Hierarchical Inheritance: Multiple classes inherit from a single base class.\n"
   ]
  },
  {
   "cell_type": "code",
   "execution_count": null,
   "metadata": {},
   "outputs": [],
   "source": [
    "# Example\n",
    "# Single Inheritance\n",
    "class Parent:\n",
    "    def method(self):\n",
    "        print(\"Parent method\")\n",
    "\n",
    "class Child(Parent):\n",
    "    pass\n",
    "\n",
    "# Multiple Inheritance\n",
    "class Parent1:\n",
    "    def method1(self):\n",
    "        print(\"Parent1 method\")\n",
    "\n",
    "class Parent2:\n",
    "    def method2(self):\n",
    "        print(\"Parent2 method\")\n",
    "\n",
    "class Child(Parent1, Parent2):\n",
    "    pass\n",
    "\n",
    "# Multilevel Inheritance\n",
    "class GrandParent:\n",
    "    def method(self):\n",
    "        print(\"GrandParent method\")\n",
    "\n",
    "class Parent(GrandParent):\n",
    "    pass\n",
    "\n",
    "class Child(Parent):\n",
    "    pass\n",
    "\n",
    "# Hierarchical Inheritance\n",
    "class Parent:\n",
    "    def method(self):\n",
    "        print(\"Parent method\")\n",
    "\n",
    "class Child1(Parent):\n",
    "    pass\n",
    "\n",
    "class Child2(Parent):\n",
    "    pass\n"
   ]
  },
  {
   "cell_type": "markdown",
   "metadata": {},
   "source": [
    "24. What is encapsulation? Explain it with an example. \n",
    "\n",
    "Ans:- <br>\n",
    "\n",
    "Encapsulation is the bundling of data and methods that operate on that data within a single unit or class. It restricts direct access to some of the object's components."
   ]
  },
  {
   "cell_type": "code",
   "execution_count": null,
   "metadata": {},
   "outputs": [],
   "source": [
    "# Example\n",
    "class EncapsulatedClass:\n",
    "    def __init__(self):\n",
    "        self.__private_attribute = \"I am private\"\n",
    "\n",
    "    def get_private_attribute(self):\n",
    "        return self.__private_attribute\n",
    "\n",
    "obj = EncapsulatedClass()\n",
    "print(obj.get_private_attribute())  # Output: I am private\n"
   ]
  },
  {
   "cell_type": "markdown",
   "metadata": {},
   "source": [
    "25. What is polymorphism? Explain it with an example.\n",
    "\n",
    "Ans:- <br>\n",
    "\n",
    "Polymorphism allows objects of different classes to be treated as objects of a common super class. It is typically used to mean the ability to call the same method on different objects and have each of them respond in their own way."
   ]
  },
  {
   "cell_type": "code",
   "execution_count": null,
   "metadata": {},
   "outputs": [],
   "source": [
    "# Example\n",
    "class Animal:\n",
    "    def sound(self):\n",
    "        pass\n",
    "\n",
    "class Dog(Animal):\n",
    "    def sound(self):\n",
    "        return \"Bark\"\n",
    "\n",
    "class Cat(Animal):\n",
    "    def sound(self):\n",
    "        return \"Meow\"\n",
    "\n",
    "animals = [Dog(), Cat()]\n",
    "for animal in animals:\n",
    "    print(animal.sound())  # Output: Bark, Meow\n"
   ]
  }
 ],
 "metadata": {
  "language_info": {
   "name": "python"
  }
 },
 "nbformat": 4,
 "nbformat_minor": 2
}
