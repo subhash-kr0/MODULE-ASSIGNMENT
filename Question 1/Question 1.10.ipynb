{
 "cells": [
  {
   "cell_type": "markdown",
   "metadata": {},
   "source": [
    "1.10. Write a program to find the sum of all the positive numbers entered by the user. As soon as the user \n",
    "enters a negative number, stop taking in any further input from the user and display the sum. "
   ]
  },
  {
   "cell_type": "code",
   "execution_count": 1,
   "metadata": {},
   "outputs": [
    {
     "name": "stdout",
     "output_type": "stream",
     "text": [
      "The sum of all positive numbers entered is: 21.0\n"
     ]
    }
   ],
   "source": [
    "# Initialize sum to 0\n",
    "total_sum = 0\n",
    "\n",
    "while True:\n",
    "    # Take input from the user\n",
    "    num = float(input(\"Enter a positive number (or a negative number to stop): \"))\n",
    "    \n",
    "    # Check if the number is negative\n",
    "    if num < 0:\n",
    "        break\n",
    "    \n",
    "    # Add the positive number to the total sum\n",
    "    total_sum += num\n",
    "\n",
    "# Display the total sum of positive numbers\n",
    "print(f\"The sum of all positive numbers entered is: {total_sum}\")\n"
   ]
  }
 ],
 "metadata": {
  "kernelspec": {
   "display_name": "Python 3",
   "language": "python",
   "name": "python3"
  },
  "language_info": {
   "codemirror_mode": {
    "name": "ipython",
    "version": 3
   },
   "file_extension": ".py",
   "mimetype": "text/x-python",
   "name": "python",
   "nbconvert_exporter": "python",
   "pygments_lexer": "ipython3",
   "version": "3.12.3"
  }
 },
 "nbformat": 4,
 "nbformat_minor": 2
}
