{
 "cells": [
  {
   "cell_type": "markdown",
   "metadata": {},
   "source": [
    "1.6. Write a program to display the appropriate message as per the color of signal(RED-Stop/Yellow-Stay/ \n",
    "Green-Go) at the road crossing. "
   ]
  },
  {
   "cell_type": "code",
   "execution_count": 1,
   "metadata": {},
   "outputs": [
    {
     "name": "stdout",
     "output_type": "stream",
     "text": [
      "The signal is Red: Stop\n"
     ]
    }
   ],
   "source": [
    "def traffic_signal_message(color):\n",
    "    color = color.lower()  # Convert the input to lowercase to handle case insensitivity\n",
    "    if color == \"red\":\n",
    "        return \"Stop\"\n",
    "    elif color == \"yellow\":\n",
    "        return \"Stay\"\n",
    "    elif color == \"green\":\n",
    "        return \"Go\"\n",
    "    else:\n",
    "        return \"Invalid color\"\n",
    "\n",
    "# Get user input for the signal color\n",
    "signal_color = input(\"Enter the traffic signal color (Red/Yellow/Green): \")\n",
    "message = traffic_signal_message(signal_color)\n",
    "print(f\"The signal is {signal_color.capitalize()}: {message}\")\n"
   ]
  }
 ],
 "metadata": {
  "kernelspec": {
   "display_name": "Python 3",
   "language": "python",
   "name": "python3"
  },
  "language_info": {
   "codemirror_mode": {
    "name": "ipython",
    "version": 3
   },
   "file_extension": ".py",
   "mimetype": "text/x-python",
   "name": "python",
   "nbconvert_exporter": "python",
   "pygments_lexer": "ipython3",
   "version": "3.12.3"
  }
 },
 "nbformat": 4,
 "nbformat_minor": 2
}
