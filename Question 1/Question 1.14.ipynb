{
 "cells": [
  {
   "cell_type": "markdown",
   "metadata": {},
   "source": [
    "1,14.Consider the gravitational interactions between the Earth, Moon, and Sun in our solar system. \n",
    "Given: <br>\n",
    "mass_earth = 5.972e24<br> # Mass of Earth in kilograms \n",
    "mass_moon = 7.34767309e22<br> # Mass of Moon in kilograms \n",
    "mass_sun = 1.989e30 # Mass of Sun in kilograms \n",
    "distance_earth_sun =1.496ell<br> # Average distance between Earth and Sun in meters \n",
    "distance_moon_earth = 3.844e8<br> # Average distance between Moon and Earth in meters <br>\n",
    "Tasks: \n",
    "* Calculate the gravitational force between the Earth and the Sun. \n",
    "* Calculate the gravitational force between the Moon and the Earth. \n",
    "+ Compore the calculated forces to determine which gravitational force is stronger. \n",
    "* Explain which celestial body (Earth or Moon) is more attracted to the other based on the comparison. "
   ]
  },
  {
   "cell_type": "code",
   "execution_count": 1,
   "metadata": {},
   "outputs": [],
   "source": [
    "mass_earth = 5.972e24  # Mass of Earth in kilograms\n",
    "mass_moon = 7.34767309e22  # Mass of Moon in kilograms\n",
    "mass_sun = 1.989e30  # Mass of Sun in kilograms\n",
    "distance_earth_sun = 1.496e11  # Average distance between Earth and Sun in meters\n",
    "distance_moon_earth = 3.844e8  # Average distance between Moon and Earth in meters\n",
    "G = 6.67430e-11  # Gravitational constant in m^3 kg^-1 s^-2\n"
   ]
  },
  {
   "cell_type": "code",
   "execution_count": 2,
   "metadata": {},
   "outputs": [
    {
     "name": "stdout",
     "output_type": "stream",
     "text": [
      "Gravitational force between Earth and Sun: 35423960813684972847104.00 Newtons\n"
     ]
    }
   ],
   "source": [
    "force_earth_sun = G * (mass_earth * mass_sun) / (distance_earth_sun ** 2)\n",
    "print(f\"Gravitational force between Earth and Sun: {force_earth_sun:.2f} Newtons\")\n"
   ]
  },
  {
   "cell_type": "code",
   "execution_count": 3,
   "metadata": {},
   "outputs": [
    {
     "name": "stdout",
     "output_type": "stream",
     "text": [
      "Gravitational force between Moon and Earth: 198202254565268127744.00 Newtons\n"
     ]
    }
   ],
   "source": [
    "force_moon_earth = G * (mass_moon * mass_earth) / (distance_moon_earth ** 2)\n",
    "print(f\"Gravitational force between Moon and Earth: {force_moon_earth:.2f} Newtons\")\n"
   ]
  },
  {
   "cell_type": "code",
   "execution_count": 4,
   "metadata": {},
   "outputs": [
    {
     "name": "stdout",
     "output_type": "stream",
     "text": [
      "The gravitational force between Earth and Sun is stronger.\n"
     ]
    }
   ],
   "source": [
    "if force_earth_sun > force_moon_earth:\n",
    "    stronger_force = \"Earth and Sun\"\n",
    "elif force_moon_earth > force_earth_sun:\n",
    "    stronger_force = \"Moon and Earth\"\n",
    "else:\n",
    "    stronger_force = \"Equal forces\"\n",
    "\n",
    "print(f\"The gravitational force between {stronger_force} is stronger.\")\n"
   ]
  }
 ],
 "metadata": {
  "kernelspec": {
   "display_name": "Python 3",
   "language": "python",
   "name": "python3"
  },
  "language_info": {
   "codemirror_mode": {
    "name": "ipython",
    "version": 3
   },
   "file_extension": ".py",
   "mimetype": "text/x-python",
   "name": "python",
   "nbconvert_exporter": "python",
   "pygments_lexer": "ipython3",
   "version": "3.12.3"
  }
 },
 "nbformat": 4,
 "nbformat_minor": 2
}
