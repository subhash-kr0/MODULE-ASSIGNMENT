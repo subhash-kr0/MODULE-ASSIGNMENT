{
 "cells": [
  {
   "cell_type": "markdown",
   "metadata": {},
   "source": [
    "1.13. Write a program for VIBGYOR Spectrum based on their Wavelength using. \n",
    "Wavelength Range: "
   ]
  },
  {
   "cell_type": "code",
   "execution_count": null,
   "metadata": {},
   "outputs": [],
   "source": [
    "def determine_color(wavelength):\n",
    "    match wavelength:\n",
    "        case wl if 400.0 <= wl < 440.0:\n",
    "            return \"Violet\"\n",
    "        case wl if 440.0 <= wl < 460.0:\n",
    "            return \"Indigo\"\n",
    "        case wl if 460.0 <= wl < 500.0:\n",
    "            return \"Blue\"\n",
    "        case wl if 500.0 <= wl < 570.0:\n",
    "            return \"Green\"\n",
    "        case wl if 570.0 <= wl < 590.0:\n",
    "            return \"Yellow\"\n",
    "        case wl if 590.0 <= wl < 620.0:\n",
    "            return \"Orange\"\n",
    "        case wl if 620.0 <= wl < 720.0:\n",
    "            return \"Red\"\n",
    "        case _:\n",
    "            return \"Wavelength out of VIBGYOR range\"\n",
    "\n",
    "def main():\n",
    "    try:\n",
    "        wavelength = float(input(\"Enter the wavelength (nm): \"))\n",
    "        color = determine_color(wavelength)\n",
    "        print(f\"The color corresponding to the wavelength {wavelength} nm is: {color}\")\n",
    "    except ValueError:\n",
    "        print(\"Invalid input. Please enter a numeric value for the wavelength.\")\n",
    "\n",
    "if __name__ == \"__main__\":\n",
    "    main()\n"
   ]
  }
 ],
 "metadata": {
  "language_info": {
   "name": "python"
  }
 },
 "nbformat": 4,
 "nbformat_minor": 2
}
