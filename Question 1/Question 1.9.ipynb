{
 "cells": [
  {
   "cell_type": "markdown",
   "metadata": {},
   "source": [
    "1.9. Write a program to find the factors of a whole number using a while loop. "
   ]
  },
  {
   "cell_type": "code",
   "execution_count": 1,
   "metadata": {},
   "outputs": [
    {
     "name": "stdout",
     "output_type": "stream",
     "text": [
      "The factors of 5 are: [1, 5]\n"
     ]
    }
   ],
   "source": [
    "# Function to find factors of a number\n",
    "def find_factors(n):\n",
    "    i = 1\n",
    "    factors = []\n",
    "    while i <= n:\n",
    "        if n % i == 0:\n",
    "            factors.append(i)\n",
    "        i += 1\n",
    "    return factors\n",
    "\n",
    "# Input: whole number\n",
    "num = int(input(\"Enter a whole number: \"))\n",
    "\n",
    "# Ensure the number is non-negative\n",
    "if num < 0:\n",
    "    print(\"Please enter a non-negative whole number.\")\n",
    "else:\n",
    "    factors = find_factors(num)\n",
    "    print(f\"The factors of {num} are: {factors}\")\n"
   ]
  }
 ],
 "metadata": {
  "kernelspec": {
   "display_name": "Python 3",
   "language": "python",
   "name": "python3"
  },
  "language_info": {
   "codemirror_mode": {
    "name": "ipython",
    "version": 3
   },
   "file_extension": ".py",
   "mimetype": "text/x-python",
   "name": "python",
   "nbconvert_exporter": "python",
   "pygments_lexer": "ipython3",
   "version": "3.12.3"
  }
 },
 "nbformat": 4,
 "nbformat_minor": 2
}
