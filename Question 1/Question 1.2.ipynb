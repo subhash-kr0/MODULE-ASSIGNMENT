{
 "cells": [
  {
   "cell_type": "markdown",
   "metadata": {},
   "source": [
    "Question 1. 2. Which of the following identifier names are invalid and why? \n",
    "\n",
    "a) Serial_no. \n",
    "\n",
    "b) Ist_Room \n",
    "\n",
    "c) Hundred$ \n",
    "\n",
    "d) Total_ Marks \n",
    "\n",
    "é) total-Marks \n",
    "\n",
    "f) Total Marks \n",
    "\n",
    "q) True \n",
    "\n",
    "h) _Percentag "
   ]
  },
  {
   "cell_type": "markdown",
   "metadata": {},
   "source": [
    "Ans:-\n",
    "\n",
    "Here are the rules for valid identifier names in Python:\n",
    "\n",
    "Identifiers can only contain alphanumeric characters (A-Z, a-z, 0-9) and underscores (_).\n",
    "\n",
    "Identifiers cannot start with a digit.\n",
    "\n",
    "Identifiers cannot contain special characters like $, -, space, etc.\n",
    "\n",
    "Identifiers cannot be a reserved keyword in Python (e.g., True, False, None, etc.).\n",
    "\n",
    "Based on these rules, let's evaluate each identifier:\n",
    "\n",
    "a) Serial_no\n",
    "Valid: It contains only letters, numbers, and an underscore.\n",
    "\n",
    "b) Ist_Room\n",
    "Valid: It contains only letters and an underscore.\n",
    "\n",
    "c) Hundred$\n",
    "Invalid: It contains a special character $, which is not allowed.\n",
    "\n",
    "d) Total_ Marks\n",
    "Invalid: It contains a space, which is not allowed in identifier names.\n",
    "\n",
    "e) total-Marks\n",
    "Invalid: It contains a hyphen -, which is not allowed in identifier names.\n",
    "\n",
    "f) Total Marks\n",
    "Invalid: It contains a space, which is not allowed in identifier names.\n",
    "\n",
    "g) True\n",
    "Invalid: True is a reserved keyword in Python and cannot be used as an identifier.\n",
    "\n",
    "h) _Percentag\n",
    "Valid: It contains only letters and an underscore."
   ]
  }
 ],
 "metadata": {
  "language_info": {
   "name": "python"
  }
 },
 "nbformat": 4,
 "nbformat_minor": 2
}
