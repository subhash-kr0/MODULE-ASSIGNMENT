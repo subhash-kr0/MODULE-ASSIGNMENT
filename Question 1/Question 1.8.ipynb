{
 "cells": [
  {
   "cell_type": "markdown",
   "metadata": {},
   "source": [
    "1.8. Write a program to find the larger of the three pre-specified numbers using ternary operators. "
   ]
  },
  {
   "cell_type": "code",
   "execution_count": 1,
   "metadata": {},
   "outputs": [
    {
     "name": "stdout",
     "output_type": "stream",
     "text": [
      "The largest number among 10, 25, and 35 is 35\n"
     ]
    }
   ],
   "source": [
    "# Pre-specified numbers\n",
    "a = 10\n",
    "b = 25\n",
    "c = 35\n",
    "\n",
    "# Find the largest number using nested ternary operators\n",
    "largest = a if (a > b and a > c) else (b if b > c else c)\n",
    "\n",
    "# Display the result\n",
    "print(f\"The largest number among {a}, {b}, and {c} is {largest}\")\n"
   ]
  }
 ],
 "metadata": {
  "kernelspec": {
   "display_name": "Python 3",
   "language": "python",
   "name": "python3"
  },
  "language_info": {
   "codemirror_mode": {
    "name": "ipython",
    "version": 3
   },
   "file_extension": ".py",
   "mimetype": "text/x-python",
   "name": "python",
   "nbconvert_exporter": "python",
   "pygments_lexer": "ipython3",
   "version": "3.12.3"
  }
 },
 "nbformat": 4,
 "nbformat_minor": 2
}
