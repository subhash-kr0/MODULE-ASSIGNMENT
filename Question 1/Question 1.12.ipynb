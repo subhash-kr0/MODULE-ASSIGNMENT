{
 "cells": [
  {
   "cell_type": "markdown",
   "metadata": {},
   "source": [
    "1,12. Write the programs for the following: <br>\n",
    "* Accept the marks of the student in five major subjects and display the sarne.<br> \n",
    "+ Calculate the sum of the marks of all subjects.Divide the total marks by number of subjects (i.e. 5), calculate <br>\n",
    "percentage = total marks/5 and display the percentage. <br>\n",
    "* Find the grade of the student as per the following criteria . Hint: Use Match & case for this.: "
   ]
  },
  {
   "cell_type": "code",
   "execution_count": null,
   "metadata": {},
   "outputs": [],
   "source": [
    "def calculate_grade(percentage):\n",
    "    match percentage:\n",
    "        case p if p > 85:\n",
    "            return 'A'\n",
    "        case p if 75 <= p <= 85:\n",
    "            return 'B'\n",
    "        case p if 50 <= p < 75:\n",
    "            return 'C'\n",
    "        case p if 30 < p < 50:\n",
    "            return 'D'\n",
    "        case p if p <= 30:\n",
    "            return 'Reappear'\n",
    "\n",
    "def main():\n",
    "    # Accept marks for five major subjects\n",
    "    marks = []\n",
    "    for i in range(5):\n",
    "        while True:\n",
    "            try:\n",
    "                mark = float(input(f\"Enter the marks for subject {i+1}: \"))\n",
    "                if 0 <= mark <= 100:\n",
    "                    marks.append(mark)\n",
    "                    break\n",
    "                else:\n",
    "                    print(\"Please enter a valid mark between 0 and 100.\")\n",
    "            except ValueError:\n",
    "                print(\"Invalid input. Please enter a numeric value.\")\n",
    "\n",
    "    # Display the marks\n",
    "    print(\"Marks entered:\", marks)\n",
    "\n",
    "    # Calculate the total marks\n",
    "    total_marks = sum(marks)\n",
    "    print(f\"Total marks: {total_marks}\")\n",
    "\n",
    "    # Calculate the percentage\n",
    "    percentage = total_marks / 5\n",
    "    print(f\"Percentage: {percentage:.2f}%\")\n",
    "\n",
    "    # Determine and display the grade\n",
    "    grade = calculate_grade(percentage)\n",
    "    print(f\"Grade: {grade}\")\n",
    "\n",
    "if __name__ == \"__main__\":\n",
    "    main()\n"
   ]
  }
 ],
 "metadata": {
  "language_info": {
   "name": "python"
  }
 },
 "nbformat": 4,
 "nbformat_minor": 2
}
