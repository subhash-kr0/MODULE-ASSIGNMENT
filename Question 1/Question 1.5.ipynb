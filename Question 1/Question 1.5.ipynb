{
 "cells": [
  {
   "cell_type": "markdown",
   "metadata": {},
   "source": [
    "Question 1.5. tuplel=(10,20,\"Apple\",3.4,'a',[\"master’, \n",
    "\"ji\" ],(\"sita\",\"geeta\",22),[{\"roll_no\":1}, \n",
    "{\"name\":\"Navneet'}]) <br>\n",
    "a) print(len(tuplel)) <br>\n",
    "b)print(tuplel[-1][-1][\"name’])<br> \n",
    "c)fetch the value of roll_no from this tuple. <br>\n",
    "d)print(tuplel[-3][1]) <br>\n",
    "e)fetch the element “22”from this tuple. "
   ]
  },
  {
   "cell_type": "code",
   "execution_count": 1,
   "metadata": {},
   "outputs": [
    {
     "name": "stdout",
     "output_type": "stream",
     "text": [
      "8\n",
      "Navneet\n",
      "1\n",
      "ji\n",
      "22\n"
     ]
    }
   ],
   "source": [
    "tuplel=(10,20,\"Apple\",3.4,'a',[\"master\", \n",
    "\"ji\" ],(\"sita\",\"geeta\",22),[{\"roll_no\":1},{\"name\":\"Navneet\"}]) \n",
    "\n",
    "print(len(tuplel)) \n",
    "\n",
    "print(tuplel[-1][-1][\"name\"]) \n",
    "\n",
    "# fetch the value of roll_no from this tuple. \n",
    "roll_no = tuplel[-1][0][\"roll_no\"]\n",
    "print(roll_no)\n",
    "\n",
    "\n",
    "print(tuplel[-3][1]) \n",
    "\n",
    "# fetch the element “22”from this tuple. \n",
    "value_22 = tuplel[-2][-1]\n",
    "print(value_22)\n"
   ]
  }
 ],
 "metadata": {
  "kernelspec": {
   "display_name": "Python 3",
   "language": "python",
   "name": "python3"
  },
  "language_info": {
   "codemirror_mode": {
    "name": "ipython",
    "version": 3
   },
   "file_extension": ".py",
   "mimetype": "text/x-python",
   "name": "python",
   "nbconvert_exporter": "python",
   "pygments_lexer": "ipython3",
   "version": "3.12.3"
  }
 },
 "nbformat": 4,
 "nbformat_minor": 2
}
